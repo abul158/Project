{
  "nbformat": 4,
  "nbformat_minor": 0,
  "metadata": {
    "colab": {
      "name": "DATA CLEANING.ipynb",
      "provenance": [],
      "collapsed_sections": [],
      "machine_shape": "hm",
      "include_colab_link": true
    },
    "kernelspec": {
      "name": "python3",
      "display_name": "Python 3"
    }
  },
  "cells": [
    {
      "cell_type": "markdown",
      "metadata": {
        "id": "view-in-github",
        "colab_type": "text"
      },
      "source": [
        "<a href=\"https://colab.research.google.com/github/abul158/Project/blob/master/DATA_CLEANING.ipynb\" target=\"_parent\"><img src=\"https://colab.research.google.com/assets/colab-badge.svg\" alt=\"Open In Colab\"/></a>"
      ]
    },
    {
      "cell_type": "code",
      "metadata": {
        "id": "CCjJUIJDO3Yo",
        "colab_type": "code",
        "outputId": "de093224-33e4-4dbd-ede0-d5c64696e8d7",
        "colab": {
          "base_uri": "https://localhost:8080/",
          "height": 122
        }
      },
      "source": [
        "from google.colab import drive\n",
        "drive.mount('/content/drive')"
      ],
      "execution_count": 0,
      "outputs": [
        {
          "output_type": "stream",
          "text": [
            "Go to this URL in a browser: https://accounts.google.com/o/oauth2/auth?client_id=947318989803-6bn6qk8qdgf4n4g3pfee6491hc0brc4i.apps.googleusercontent.com&redirect_uri=urn%3aietf%3awg%3aoauth%3a2.0%3aoob&response_type=code&scope=email%20https%3a%2f%2fwww.googleapis.com%2fauth%2fdocs.test%20https%3a%2f%2fwww.googleapis.com%2fauth%2fdrive%20https%3a%2f%2fwww.googleapis.com%2fauth%2fdrive.photos.readonly%20https%3a%2f%2fwww.googleapis.com%2fauth%2fpeopleapi.readonly\n",
            "\n",
            "Enter your authorization code:\n",
            "··········\n",
            "Mounted at /content/drive\n"
          ],
          "name": "stdout"
        }
      ]
    },
    {
      "cell_type": "code",
      "metadata": {
        "id": "YhzJCpgLPE3q",
        "colab_type": "code",
        "colab": {}
      },
      "source": [
        "import numpy as np\n",
        "import pandas as pd     #importing libraries"
      ],
      "execution_count": 0,
      "outputs": []
    },
    {
      "cell_type": "markdown",
      "metadata": {
        "id": "9uVMx6TiBcUU",
        "colab_type": "text"
      },
      "source": [
        "# STEP-1:"
      ]
    },
    {
      "cell_type": "code",
      "metadata": {
        "id": "DdWFDPmUPpUl",
        "colab_type": "code",
        "outputId": "23a9667b-cfba-4db4-f54c-0bcb99d3ff92",
        "colab": {
          "base_uri": "https://localhost:8080/",
          "height": 156
        }
      },
      "source": [
        "df=pd.read_csv('/content/drive/My Drive/case study/data_engineering_assignment.txt',error_bad_lines=False,sep='|')  #reading the data"
      ],
      "execution_count": 0,
      "outputs": [
        {
          "output_type": "stream",
          "text": [
            "b'Skipping line 231: expected 9 fields, saw 10\\nSkipping line 238: expected 9 fields, saw 11\\nSkipping line 14586: expected 9 fields, saw 11\\nSkipping line 19227: expected 9 fields, saw 16\\nSkipping line 38750: expected 9 fields, saw 10\\nSkipping line 44376: expected 9 fields, saw 10\\nSkipping line 53091: expected 9 fields, saw 16\\nSkipping line 54199: expected 9 fields, saw 16\\nSkipping line 60527: expected 9 fields, saw 11\\nSkipping line 64070: expected 9 fields, saw 11\\n'\n",
            "b'Skipping line 74409: expected 9 fields, saw 10\\nSkipping line 74807: expected 9 fields, saw 13\\nSkipping line 80508: expected 9 fields, saw 16\\nSkipping line 95599: expected 9 fields, saw 10\\nSkipping line 96440: expected 9 fields, saw 10\\nSkipping line 106464: expected 9 fields, saw 11\\nSkipping line 106631: expected 9 fields, saw 10\\nSkipping line 109119: expected 9 fields, saw 10\\nSkipping line 125056: expected 9 fields, saw 10\\nSkipping line 126747: expected 9 fields, saw 11\\nSkipping line 127291: expected 9 fields, saw 10\\nSkipping line 127880: expected 9 fields, saw 11\\nSkipping line 128347: expected 9 fields, saw 11\\nSkipping line 128418: expected 9 fields, saw 10\\nSkipping line 129263: expected 9 fields, saw 11\\nSkipping line 129544: expected 9 fields, saw 11\\nSkipping line 130044: expected 9 fields, saw 11\\nSkipping line 130101: expected 9 fields, saw 11\\nSkipping line 131175: expected 9 fields, saw 11\\nSkipping line 131419: expected 9 fields, saw 11\\nSkipping line 131806: expected 9 fields, saw 11\\n'\n",
            "b'Skipping line 133103: expected 9 fields, saw 11\\nSkipping line 135398: expected 9 fields, saw 11\\nSkipping line 135981: expected 9 fields, saw 11\\nSkipping line 136797: expected 9 fields, saw 11\\nSkipping line 137686: expected 9 fields, saw 11\\nSkipping line 137968: expected 9 fields, saw 11\\nSkipping line 138023: expected 9 fields, saw 11\\nSkipping line 138520: expected 9 fields, saw 11\\nSkipping line 138870: expected 9 fields, saw 11\\nSkipping line 138990: expected 9 fields, saw 10\\nSkipping line 140354: expected 9 fields, saw 11\\nSkipping line 142903: expected 9 fields, saw 10\\nSkipping line 143032: expected 9 fields, saw 11\\nSkipping line 143048: expected 9 fields, saw 11\\nSkipping line 144096: expected 9 fields, saw 11\\nSkipping line 144975: expected 9 fields, saw 11\\nSkipping line 146503: expected 9 fields, saw 11\\nSkipping line 146903: expected 9 fields, saw 11\\nSkipping line 147101: expected 9 fields, saw 11\\nSkipping line 149439: expected 9 fields, saw 11\\nSkipping line 149608: expected 9 fields, saw 11\\nSkipping line 150964: expected 9 fields, saw 10\\nSkipping line 151278: expected 9 fields, saw 10\\nSkipping line 152561: expected 9 fields, saw 11\\nSkipping line 152600: expected 9 fields, saw 11\\nSkipping line 153154: expected 9 fields, saw 11\\nSkipping line 153742: expected 9 fields, saw 11\\nSkipping line 156089: expected 9 fields, saw 11\\nSkipping line 156416: expected 9 fields, saw 11\\nSkipping line 156667: expected 9 fields, saw 11\\nSkipping line 157018: expected 9 fields, saw 11\\nSkipping line 157834: expected 9 fields, saw 11\\nSkipping line 158043: expected 9 fields, saw 10\\nSkipping line 158173: expected 9 fields, saw 11\\nSkipping line 158381: expected 9 fields, saw 11\\nSkipping line 159424: expected 9 fields, saw 11\\nSkipping line 159634: expected 9 fields, saw 11\\nSkipping line 160710: expected 9 fields, saw 11\\nSkipping line 161302: expected 9 fields, saw 11\\nSkipping line 161910: expected 9 fields, saw 11\\nSkipping line 163029: expected 9 fields, saw 11\\nSkipping line 163900: expected 9 fields, saw 11\\nSkipping line 164355: expected 9 fields, saw 11\\nSkipping line 164689: expected 9 fields, saw 11\\nSkipping line 168172: expected 9 fields, saw 11\\nSkipping line 168993: expected 9 fields, saw 11\\nSkipping line 170853: expected 9 fields, saw 11\\nSkipping line 173149: expected 9 fields, saw 11\\nSkipping line 176228: expected 9 fields, saw 11\\nSkipping line 177351: expected 9 fields, saw 11\\nSkipping line 179925: expected 9 fields, saw 11\\nSkipping line 181134: expected 9 fields, saw 11\\nSkipping line 181941: expected 9 fields, saw 11\\nSkipping line 182703: expected 9 fields, saw 11\\nSkipping line 183624: expected 9 fields, saw 11\\nSkipping line 185858: expected 9 fields, saw 10\\nSkipping line 187759: expected 9 fields, saw 11\\nSkipping line 188448: expected 9 fields, saw 11\\nSkipping line 188667: expected 9 fields, saw 11\\nSkipping line 188784: expected 9 fields, saw 11\\nSkipping line 188785: expected 9 fields, saw 11\\nSkipping line 189290: expected 9 fields, saw 11\\nSkipping line 189600: expected 9 fields, saw 18\\nSkipping line 190423: expected 9 fields, saw 11\\nSkipping line 190860: expected 9 fields, saw 11\\nSkipping line 193268: expected 9 fields, saw 11\\nSkipping line 193395: expected 9 fields, saw 10\\nSkipping line 194555: expected 9 fields, saw 11\\nSkipping line 196683: expected 9 fields, saw 11\\nSkipping line 197201: expected 9 fields, saw 11\\n'\n",
            "b'Skipping line 200533: expected 9 fields, saw 11\\nSkipping line 201104: expected 9 fields, saw 11\\nSkipping line 201576: expected 9 fields, saw 11\\nSkipping line 201640: expected 9 fields, saw 10\\nSkipping line 204189: expected 9 fields, saw 11\\nSkipping line 205347: expected 9 fields, saw 11\\nSkipping line 205438: expected 9 fields, saw 11\\nSkipping line 208860: expected 9 fields, saw 11\\nSkipping line 209048: expected 9 fields, saw 10\\nSkipping line 209232: expected 9 fields, saw 11\\nSkipping line 211084: expected 9 fields, saw 10\\nSkipping line 211322: expected 9 fields, saw 11\\nSkipping line 211763: expected 9 fields, saw 11\\nSkipping line 211934: expected 9 fields, saw 11\\nSkipping line 212033: expected 9 fields, saw 11\\nSkipping line 212465: expected 9 fields, saw 11\\nSkipping line 212658: expected 9 fields, saw 11\\nSkipping line 215701: expected 9 fields, saw 11\\nSkipping line 216698: expected 9 fields, saw 11\\nSkipping line 217029: expected 9 fields, saw 11\\nSkipping line 217378: expected 9 fields, saw 11\\nSkipping line 219575: expected 9 fields, saw 11\\nSkipping line 219847: expected 9 fields, saw 11\\nSkipping line 220503: expected 9 fields, saw 11\\nSkipping line 220523: expected 9 fields, saw 11\\nSkipping line 222602: expected 9 fields, saw 11\\nSkipping line 222656: expected 9 fields, saw 11\\nSkipping line 224105: expected 9 fields, saw 11\\nSkipping line 226170: expected 9 fields, saw 11\\nSkipping line 227436: expected 9 fields, saw 11\\nSkipping line 228045: expected 9 fields, saw 11\\nSkipping line 228193: expected 9 fields, saw 11\\nSkipping line 228745: expected 9 fields, saw 11\\nSkipping line 228892: expected 9 fields, saw 11\\nSkipping line 229844: expected 9 fields, saw 11\\nSkipping line 231181: expected 9 fields, saw 11\\nSkipping line 232479: expected 9 fields, saw 11\\nSkipping line 232532: expected 9 fields, saw 11\\nSkipping line 239275: expected 9 fields, saw 10\\n'\n",
            "b'Skipping line 281100: expected 9 fields, saw 10\\n'\n",
            "/usr/local/lib/python3.6/dist-packages/IPython/core/interactiveshell.py:2718: DtypeWarning: Columns (4) have mixed types. Specify dtype option on import or set low_memory=False.\n",
            "  interactivity=interactivity, compiler=compiler, result=result)\n"
          ],
          "name": "stderr"
        }
      ]
    },
    {
      "cell_type": "code",
      "metadata": {
        "id": "TGLddefDPzSQ",
        "colab_type": "code",
        "outputId": "d4089a50-1444-460f-f37c-3d239c83e6dc",
        "colab": {
          "base_uri": "https://localhost:8080/",
          "height": 34
        }
      },
      "source": [
        "df.shape #checking the number of rows and columns"
      ],
      "execution_count": 0,
      "outputs": [
        {
          "output_type": "execute_result",
          "data": {
            "text/plain": [
              "(323441, 9)"
            ]
          },
          "metadata": {
            "tags": []
          },
          "execution_count": 4
        }
      ]
    },
    {
      "cell_type": "code",
      "metadata": {
        "id": "Xyz9I4D2TpoY",
        "colab_type": "code",
        "outputId": "0270bf8d-0099-4fcb-e213-6929383e21f5",
        "colab": {
          "base_uri": "https://localhost:8080/",
          "height": 255
        }
      },
      "source": [
        "df.info() # checking the info of the data"
      ],
      "execution_count": 0,
      "outputs": [
        {
          "output_type": "stream",
          "text": [
            "<class 'pandas.core.frame.DataFrame'>\n",
            "RangeIndex: 323441 entries, 0 to 323440\n",
            "Data columns (total 9 columns):\n",
            "_id                 323441 non-null object\n",
            "name                318278 non-null object\n",
            "price               318278 non-null object\n",
            "website_id          318278 non-null object\n",
            "sku                 317865 non-null object\n",
            "url                 318278 non-null object\n",
            "brand               318278 non-null object\n",
            "media               318278 non-null object\n",
            "description_text    317810 non-null object\n",
            "dtypes: object(9)\n",
            "memory usage: 22.2+ MB\n"
          ],
          "name": "stdout"
        }
      ]
    },
    {
      "cell_type": "markdown",
      "metadata": {
        "id": "a0QZ7hE2BmJM",
        "colab_type": "text"
      },
      "source": [
        "# STEP-2:"
      ]
    },
    {
      "cell_type": "code",
      "metadata": {
        "id": "AguWIlLATtMw",
        "colab_type": "code",
        "colab": {}
      },
      "source": [
        "df.dropna(inplace=True) #dropping null values"
      ],
      "execution_count": 0,
      "outputs": []
    },
    {
      "cell_type": "code",
      "metadata": {
        "id": "YI2sHkNjTxs_",
        "colab_type": "code",
        "outputId": "e87ee398-7d56-4bb6-8862-dbd1253aad89",
        "colab": {
          "base_uri": "https://localhost:8080/",
          "height": 34
        }
      },
      "source": [
        "df.shape #checking the dimensions after dropping"
      ],
      "execution_count": 0,
      "outputs": [
        {
          "output_type": "execute_result",
          "data": {
            "text/plain": [
              "(317397, 9)"
            ]
          },
          "metadata": {
            "tags": []
          },
          "execution_count": 7
        }
      ]
    },
    {
      "cell_type": "markdown",
      "metadata": {
        "id": "r5gCpdCmBqxy",
        "colab_type": "text"
      },
      "source": [
        "# STEP-3:"
      ]
    },
    {
      "cell_type": "code",
      "metadata": {
        "id": "OEqTCE0_Ug6c",
        "colab_type": "code",
        "colab": {}
      },
      "source": [
        "def unpack(s):\n",
        "  a=[]\n",
        "  for i in range(0,len(s)):         #creating function for unpacking the strings in the column into dict form\n",
        "    x=eval(s.iloc[i])\n",
        "    a.append(x)\n",
        "  return a\n",
        "\n"
      ],
      "execution_count": 0,
      "outputs": []
    },
    {
      "cell_type": "markdown",
      "metadata": {
        "id": "O9qma1ORBw3a",
        "colab_type": "text"
      },
      "source": [
        "# STEP-4 & STEP-5: "
      ]
    },
    {
      "cell_type": "code",
      "metadata": {
        "id": "eS-2M026zUn7",
        "colab_type": "code",
        "colab": {}
      },
      "source": [
        "price=pd.DataFrame(unpack(df.price)) #unpacking and making dataframe of price"
      ],
      "execution_count": 0,
      "outputs": []
    },
    {
      "cell_type": "code",
      "metadata": {
        "id": "PTH47orU28MA",
        "colab_type": "code",
        "outputId": "7214faf9-f0ec-4eed-aefb-78b943edd105",
        "colab": {
          "base_uri": "https://localhost:8080/",
          "height": 34
        }
      },
      "source": [
        "price.columns                        #keys present in price column"
      ],
      "execution_count": 0,
      "outputs": [
        {
          "output_type": "execute_result",
          "data": {
            "text/plain": [
              "Index(['offer_price', 'regular_price', 'basket_price'], dtype='object')"
            ]
          },
          "metadata": {
            "tags": []
          },
          "execution_count": 10
        }
      ]
    },
    {
      "cell_type": "code",
      "metadata": {
        "id": "ZPd-SfsA4OB7",
        "colab_type": "code",
        "colab": {}
      },
      "source": [
        "offer_price=pd.DataFrame(list(price['offer_price']))         #creating columns for eack key in the price column"
      ],
      "execution_count": 0,
      "outputs": []
    },
    {
      "cell_type": "code",
      "metadata": {
        "id": "MxVQsVN04UGf",
        "colab_type": "code",
        "colab": {}
      },
      "source": [
        "regular_price=pd.DataFrame(list(price['regular_price']))"
      ],
      "execution_count": 0,
      "outputs": []
    },
    {
      "cell_type": "code",
      "metadata": {
        "id": "LN4Lys8R1AMT",
        "colab_type": "code",
        "outputId": "c677ffb5-e45e-409a-e6cd-7c7e384ef87b",
        "colab": {
          "base_uri": "https://localhost:8080/",
          "height": 68
        }
      },
      "source": [
        "offer_price.isnull().sum()"
      ],
      "execution_count": 0,
      "outputs": [
        {
          "output_type": "execute_result",
          "data": {
            "text/plain": [
              "currency      0\n",
              "value       331\n",
              "dtype: int64"
            ]
          },
          "metadata": {
            "tags": []
          },
          "execution_count": 13
        }
      ]
    },
    {
      "cell_type": "code",
      "metadata": {
        "id": "Hie01M9M_HAO",
        "colab_type": "code",
        "colab": {}
      },
      "source": [
        ""
      ],
      "execution_count": 0,
      "outputs": []
    },
    {
      "cell_type": "code",
      "metadata": {
        "id": "A3PDr5mN46_P",
        "colab_type": "code",
        "colab": {}
      },
      "source": [
        "basket_price=pd.DataFrame(list(price['basket_price']))"
      ],
      "execution_count": 0,
      "outputs": []
    },
    {
      "cell_type": "code",
      "metadata": {
        "id": "zML5ZEUx5D3w",
        "colab_type": "code",
        "outputId": "0bce14ea-c0ef-4865-f87a-dba311edf9c0",
        "colab": {
          "base_uri": "https://localhost:8080/",
          "height": 68
        }
      },
      "source": [
        "df.columns"
      ],
      "execution_count": 0,
      "outputs": [
        {
          "output_type": "execute_result",
          "data": {
            "text/plain": [
              "Index(['_id', 'name', 'price', 'website_id', 'sku', 'url', 'brand', 'media',\n",
              "       'description_text'],\n",
              "      dtype='object')"
            ]
          },
          "metadata": {
            "tags": []
          },
          "execution_count": 15
        }
      ]
    },
    {
      "cell_type": "markdown",
      "metadata": {
        "id": "GzSlERxCCH9W",
        "colab_type": "text"
      },
      "source": [
        "# STEP-6:"
      ]
    },
    {
      "cell_type": "code",
      "metadata": {
        "id": "-w2IeJWL6e5h",
        "colab_type": "code",
        "colab": {}
      },
      "source": [
        "brand=pd.DataFrame(unpack(df.brand))     \n",
        "#converting brand which is in string datatype to dictionary to create individual variables"
      ],
      "execution_count": 0,
      "outputs": []
    },
    {
      "cell_type": "code",
      "metadata": {
        "id": "-skwNksQ6sI9",
        "colab_type": "code",
        "outputId": "5d3751a0-1971-4989-9267-4d293d63eba1",
        "colab": {
          "base_uri": "https://localhost:8080/",
          "height": 204
        }
      },
      "source": [
        "brand.head()"
      ],
      "execution_count": 0,
      "outputs": [
        {
          "output_type": "execute_result",
          "data": {
            "text/html": [
              "<div>\n",
              "<style scoped>\n",
              "    .dataframe tbody tr th:only-of-type {\n",
              "        vertical-align: middle;\n",
              "    }\n",
              "\n",
              "    .dataframe tbody tr th {\n",
              "        vertical-align: top;\n",
              "    }\n",
              "\n",
              "    .dataframe thead th {\n",
              "        text-align: right;\n",
              "    }\n",
              "</style>\n",
              "<table border=\"1\" class=\"dataframe\">\n",
              "  <thead>\n",
              "    <tr style=\"text-align: right;\">\n",
              "      <th></th>\n",
              "      <th>name</th>\n",
              "      <th>sub_brand</th>\n",
              "    </tr>\n",
              "  </thead>\n",
              "  <tbody>\n",
              "    <tr>\n",
              "      <th>0</th>\n",
              "      <td>joules</td>\n",
              "      <td></td>\n",
              "    </tr>\n",
              "    <tr>\n",
              "      <th>1</th>\n",
              "      <td>figleaves</td>\n",
              "      <td></td>\n",
              "    </tr>\n",
              "    <tr>\n",
              "      <th>2</th>\n",
              "      <td>nike</td>\n",
              "      <td></td>\n",
              "    </tr>\n",
              "    <tr>\n",
              "      <th>3</th>\n",
              "      <td>next</td>\n",
              "      <td></td>\n",
              "    </tr>\n",
              "    <tr>\n",
              "      <th>4</th>\n",
              "      <td>river island</td>\n",
              "      <td></td>\n",
              "    </tr>\n",
              "  </tbody>\n",
              "</table>\n",
              "</div>"
            ],
            "text/plain": [
              "           name sub_brand\n",
              "0        joules          \n",
              "1     figleaves          \n",
              "2          nike          \n",
              "3          next          \n",
              "4  river island          "
            ]
          },
          "metadata": {
            "tags": []
          },
          "execution_count": 17
        }
      ]
    },
    {
      "cell_type": "code",
      "metadata": {
        "id": "gCGFi2y6BwPf",
        "colab_type": "code",
        "colab": {}
      },
      "source": [
        "brand.name.replace('','NA',inplace=True)    #Replacing blank observations with 'NA' (i.e) Not Available"
      ],
      "execution_count": 0,
      "outputs": []
    },
    {
      "cell_type": "code",
      "metadata": {
        "id": "veS22v2BKkXf",
        "colab_type": "code",
        "colab": {}
      },
      "source": [
        "media=pd.DataFrame(unpack(df.media))  \n",
        "#Unpacking string variable into dictionary to form individual columns for every variables inside dictionary"
      ],
      "execution_count": 0,
      "outputs": []
    },
    {
      "cell_type": "markdown",
      "metadata": {
        "id": "kv32P6o_CZJY",
        "colab_type": "text"
      },
      "source": [
        "# ADDITIONAL STEPS:"
      ]
    },
    {
      "cell_type": "code",
      "metadata": {
        "id": "-zIKawHETZEm",
        "colab_type": "code",
        "colab": {}
      },
      "source": [
        "a=media.standard"
      ],
      "execution_count": 0,
      "outputs": []
    },
    {
      "cell_type": "code",
      "metadata": {
        "id": "QFSArDxoJC5T",
        "colab_type": "code",
        "outputId": "379c9641-c35b-4f78-8432-89bfda3b8de6",
        "colab": {
          "base_uri": "https://localhost:8080/",
          "height": 221
        }
      },
      "source": [
        "a"
      ],
      "execution_count": 0,
      "outputs": [
        {
          "output_type": "execute_result",
          "data": {
            "text/plain": [
              "0         [{'order': 1, 'url': 'https://xcdn.next.co.uk/...\n",
              "1         [{'order': 1, 'url': 'https://xcdn.next.co.uk/...\n",
              "2         [{'order': 1, 'url': 'https://xcdn.next.co.uk/...\n",
              "3         [{'order': 1, 'url': 'https://xcdn.next.co.uk/...\n",
              "4         [{'order': 1, 'url': 'https://xcdn.next.co.uk/...\n",
              "                                ...                        \n",
              "317392    [{'order': 1, 'url': 'https://images.asos-medi...\n",
              "317393    [{'order': 1, 'url': 'https://images.asos-medi...\n",
              "317394    [{'order': 1, 'url': 'https://images.asos-medi...\n",
              "317395    [{'order': 1, 'url': 'https://images.asos-medi...\n",
              "317396    [{'order': 1, 'url': 'https://images.asos-medi...\n",
              "Name: standard, Length: 317397, dtype: object"
            ]
          },
          "metadata": {
            "tags": []
          },
          "execution_count": 21
        }
      ]
    },
    {
      "cell_type": "code",
      "metadata": {
        "id": "nWdOf556LgL_",
        "colab_type": "code",
        "outputId": "23d215e3-a443-4e83-8417-f557840b1cf3",
        "colab": {
          "base_uri": "https://localhost:8080/",
          "height": 694
        }
      },
      "source": [
        "xy = pd.DataFrame(a)\n",
        "new=xy['standard'].apply(pd.Series )\n",
        "new"
      ],
      "execution_count": 0,
      "outputs": [
        {
          "output_type": "execute_result",
          "data": {
            "text/html": [
              "<div>\n",
              "<style scoped>\n",
              "    .dataframe tbody tr th:only-of-type {\n",
              "        vertical-align: middle;\n",
              "    }\n",
              "\n",
              "    .dataframe tbody tr th {\n",
              "        vertical-align: top;\n",
              "    }\n",
              "\n",
              "    .dataframe thead th {\n",
              "        text-align: right;\n",
              "    }\n",
              "</style>\n",
              "<table border=\"1\" class=\"dataframe\">\n",
              "  <thead>\n",
              "    <tr style=\"text-align: right;\">\n",
              "      <th></th>\n",
              "      <th>0</th>\n",
              "      <th>1</th>\n",
              "      <th>2</th>\n",
              "      <th>3</th>\n",
              "      <th>4</th>\n",
              "      <th>5</th>\n",
              "      <th>6</th>\n",
              "      <th>7</th>\n",
              "      <th>8</th>\n",
              "      <th>9</th>\n",
              "      <th>10</th>\n",
              "      <th>11</th>\n",
              "      <th>12</th>\n",
              "      <th>13</th>\n",
              "      <th>14</th>\n",
              "      <th>15</th>\n",
              "      <th>16</th>\n",
              "      <th>17</th>\n",
              "      <th>18</th>\n",
              "      <th>19</th>\n",
              "      <th>20</th>\n",
              "      <th>21</th>\n",
              "      <th>22</th>\n",
              "      <th>23</th>\n",
              "      <th>24</th>\n",
              "      <th>25</th>\n",
              "      <th>26</th>\n",
              "      <th>27</th>\n",
              "      <th>28</th>\n",
              "      <th>29</th>\n",
              "      <th>30</th>\n",
              "      <th>31</th>\n",
              "      <th>32</th>\n",
              "      <th>33</th>\n",
              "      <th>34</th>\n",
              "      <th>35</th>\n",
              "      <th>36</th>\n",
              "      <th>37</th>\n",
              "      <th>38</th>\n",
              "      <th>39</th>\n",
              "      <th>40</th>\n",
              "    </tr>\n",
              "  </thead>\n",
              "  <tbody>\n",
              "    <tr>\n",
              "      <th>0</th>\n",
              "      <td>{'order': 1, 'url': 'https://xcdn.next.co.uk/C...</td>\n",
              "      <td>NaN</td>\n",
              "      <td>NaN</td>\n",
              "      <td>NaN</td>\n",
              "      <td>NaN</td>\n",
              "      <td>NaN</td>\n",
              "      <td>NaN</td>\n",
              "      <td>NaN</td>\n",
              "      <td>NaN</td>\n",
              "      <td>NaN</td>\n",
              "      <td>NaN</td>\n",
              "      <td>NaN</td>\n",
              "      <td>NaN</td>\n",
              "      <td>NaN</td>\n",
              "      <td>NaN</td>\n",
              "      <td>NaN</td>\n",
              "      <td>NaN</td>\n",
              "      <td>NaN</td>\n",
              "      <td>NaN</td>\n",
              "      <td>NaN</td>\n",
              "      <td>NaN</td>\n",
              "      <td>NaN</td>\n",
              "      <td>NaN</td>\n",
              "      <td>NaN</td>\n",
              "      <td>NaN</td>\n",
              "      <td>NaN</td>\n",
              "      <td>NaN</td>\n",
              "      <td>NaN</td>\n",
              "      <td>NaN</td>\n",
              "      <td>NaN</td>\n",
              "      <td>NaN</td>\n",
              "      <td>NaN</td>\n",
              "      <td>NaN</td>\n",
              "      <td>NaN</td>\n",
              "      <td>NaN</td>\n",
              "      <td>NaN</td>\n",
              "      <td>NaN</td>\n",
              "      <td>NaN</td>\n",
              "      <td>NaN</td>\n",
              "      <td>NaN</td>\n",
              "      <td>NaN</td>\n",
              "    </tr>\n",
              "    <tr>\n",
              "      <th>1</th>\n",
              "      <td>{'order': 1, 'url': 'https://xcdn.next.co.uk/C...</td>\n",
              "      <td>NaN</td>\n",
              "      <td>NaN</td>\n",
              "      <td>NaN</td>\n",
              "      <td>NaN</td>\n",
              "      <td>NaN</td>\n",
              "      <td>NaN</td>\n",
              "      <td>NaN</td>\n",
              "      <td>NaN</td>\n",
              "      <td>NaN</td>\n",
              "      <td>NaN</td>\n",
              "      <td>NaN</td>\n",
              "      <td>NaN</td>\n",
              "      <td>NaN</td>\n",
              "      <td>NaN</td>\n",
              "      <td>NaN</td>\n",
              "      <td>NaN</td>\n",
              "      <td>NaN</td>\n",
              "      <td>NaN</td>\n",
              "      <td>NaN</td>\n",
              "      <td>NaN</td>\n",
              "      <td>NaN</td>\n",
              "      <td>NaN</td>\n",
              "      <td>NaN</td>\n",
              "      <td>NaN</td>\n",
              "      <td>NaN</td>\n",
              "      <td>NaN</td>\n",
              "      <td>NaN</td>\n",
              "      <td>NaN</td>\n",
              "      <td>NaN</td>\n",
              "      <td>NaN</td>\n",
              "      <td>NaN</td>\n",
              "      <td>NaN</td>\n",
              "      <td>NaN</td>\n",
              "      <td>NaN</td>\n",
              "      <td>NaN</td>\n",
              "      <td>NaN</td>\n",
              "      <td>NaN</td>\n",
              "      <td>NaN</td>\n",
              "      <td>NaN</td>\n",
              "      <td>NaN</td>\n",
              "    </tr>\n",
              "    <tr>\n",
              "      <th>2</th>\n",
              "      <td>{'order': 1, 'url': 'https://xcdn.next.co.uk/C...</td>\n",
              "      <td>NaN</td>\n",
              "      <td>NaN</td>\n",
              "      <td>NaN</td>\n",
              "      <td>NaN</td>\n",
              "      <td>NaN</td>\n",
              "      <td>NaN</td>\n",
              "      <td>NaN</td>\n",
              "      <td>NaN</td>\n",
              "      <td>NaN</td>\n",
              "      <td>NaN</td>\n",
              "      <td>NaN</td>\n",
              "      <td>NaN</td>\n",
              "      <td>NaN</td>\n",
              "      <td>NaN</td>\n",
              "      <td>NaN</td>\n",
              "      <td>NaN</td>\n",
              "      <td>NaN</td>\n",
              "      <td>NaN</td>\n",
              "      <td>NaN</td>\n",
              "      <td>NaN</td>\n",
              "      <td>NaN</td>\n",
              "      <td>NaN</td>\n",
              "      <td>NaN</td>\n",
              "      <td>NaN</td>\n",
              "      <td>NaN</td>\n",
              "      <td>NaN</td>\n",
              "      <td>NaN</td>\n",
              "      <td>NaN</td>\n",
              "      <td>NaN</td>\n",
              "      <td>NaN</td>\n",
              "      <td>NaN</td>\n",
              "      <td>NaN</td>\n",
              "      <td>NaN</td>\n",
              "      <td>NaN</td>\n",
              "      <td>NaN</td>\n",
              "      <td>NaN</td>\n",
              "      <td>NaN</td>\n",
              "      <td>NaN</td>\n",
              "      <td>NaN</td>\n",
              "      <td>NaN</td>\n",
              "    </tr>\n",
              "    <tr>\n",
              "      <th>3</th>\n",
              "      <td>{'order': 1, 'url': 'https://xcdn.next.co.uk/C...</td>\n",
              "      <td>NaN</td>\n",
              "      <td>NaN</td>\n",
              "      <td>NaN</td>\n",
              "      <td>NaN</td>\n",
              "      <td>NaN</td>\n",
              "      <td>NaN</td>\n",
              "      <td>NaN</td>\n",
              "      <td>NaN</td>\n",
              "      <td>NaN</td>\n",
              "      <td>NaN</td>\n",
              "      <td>NaN</td>\n",
              "      <td>NaN</td>\n",
              "      <td>NaN</td>\n",
              "      <td>NaN</td>\n",
              "      <td>NaN</td>\n",
              "      <td>NaN</td>\n",
              "      <td>NaN</td>\n",
              "      <td>NaN</td>\n",
              "      <td>NaN</td>\n",
              "      <td>NaN</td>\n",
              "      <td>NaN</td>\n",
              "      <td>NaN</td>\n",
              "      <td>NaN</td>\n",
              "      <td>NaN</td>\n",
              "      <td>NaN</td>\n",
              "      <td>NaN</td>\n",
              "      <td>NaN</td>\n",
              "      <td>NaN</td>\n",
              "      <td>NaN</td>\n",
              "      <td>NaN</td>\n",
              "      <td>NaN</td>\n",
              "      <td>NaN</td>\n",
              "      <td>NaN</td>\n",
              "      <td>NaN</td>\n",
              "      <td>NaN</td>\n",
              "      <td>NaN</td>\n",
              "      <td>NaN</td>\n",
              "      <td>NaN</td>\n",
              "      <td>NaN</td>\n",
              "      <td>NaN</td>\n",
              "    </tr>\n",
              "    <tr>\n",
              "      <th>4</th>\n",
              "      <td>{'order': 1, 'url': 'https://xcdn.next.co.uk/C...</td>\n",
              "      <td>NaN</td>\n",
              "      <td>NaN</td>\n",
              "      <td>NaN</td>\n",
              "      <td>NaN</td>\n",
              "      <td>NaN</td>\n",
              "      <td>NaN</td>\n",
              "      <td>NaN</td>\n",
              "      <td>NaN</td>\n",
              "      <td>NaN</td>\n",
              "      <td>NaN</td>\n",
              "      <td>NaN</td>\n",
              "      <td>NaN</td>\n",
              "      <td>NaN</td>\n",
              "      <td>NaN</td>\n",
              "      <td>NaN</td>\n",
              "      <td>NaN</td>\n",
              "      <td>NaN</td>\n",
              "      <td>NaN</td>\n",
              "      <td>NaN</td>\n",
              "      <td>NaN</td>\n",
              "      <td>NaN</td>\n",
              "      <td>NaN</td>\n",
              "      <td>NaN</td>\n",
              "      <td>NaN</td>\n",
              "      <td>NaN</td>\n",
              "      <td>NaN</td>\n",
              "      <td>NaN</td>\n",
              "      <td>NaN</td>\n",
              "      <td>NaN</td>\n",
              "      <td>NaN</td>\n",
              "      <td>NaN</td>\n",
              "      <td>NaN</td>\n",
              "      <td>NaN</td>\n",
              "      <td>NaN</td>\n",
              "      <td>NaN</td>\n",
              "      <td>NaN</td>\n",
              "      <td>NaN</td>\n",
              "      <td>NaN</td>\n",
              "      <td>NaN</td>\n",
              "      <td>NaN</td>\n",
              "    </tr>\n",
              "    <tr>\n",
              "      <th>...</th>\n",
              "      <td>...</td>\n",
              "      <td>...</td>\n",
              "      <td>...</td>\n",
              "      <td>...</td>\n",
              "      <td>...</td>\n",
              "      <td>...</td>\n",
              "      <td>...</td>\n",
              "      <td>...</td>\n",
              "      <td>...</td>\n",
              "      <td>...</td>\n",
              "      <td>...</td>\n",
              "      <td>...</td>\n",
              "      <td>...</td>\n",
              "      <td>...</td>\n",
              "      <td>...</td>\n",
              "      <td>...</td>\n",
              "      <td>...</td>\n",
              "      <td>...</td>\n",
              "      <td>...</td>\n",
              "      <td>...</td>\n",
              "      <td>...</td>\n",
              "      <td>...</td>\n",
              "      <td>...</td>\n",
              "      <td>...</td>\n",
              "      <td>...</td>\n",
              "      <td>...</td>\n",
              "      <td>...</td>\n",
              "      <td>...</td>\n",
              "      <td>...</td>\n",
              "      <td>...</td>\n",
              "      <td>...</td>\n",
              "      <td>...</td>\n",
              "      <td>...</td>\n",
              "      <td>...</td>\n",
              "      <td>...</td>\n",
              "      <td>...</td>\n",
              "      <td>...</td>\n",
              "      <td>...</td>\n",
              "      <td>...</td>\n",
              "      <td>...</td>\n",
              "      <td>...</td>\n",
              "    </tr>\n",
              "    <tr>\n",
              "      <th>317392</th>\n",
              "      <td>{'order': 1, 'url': 'https://images.asos-media...</td>\n",
              "      <td>{'order': 2, 'url': 'https://images.asos-media...</td>\n",
              "      <td>{'order': 3, 'url': 'https://images.asos-media...</td>\n",
              "      <td>{'order': 4, 'url': 'https://images.asos-media...</td>\n",
              "      <td>NaN</td>\n",
              "      <td>NaN</td>\n",
              "      <td>NaN</td>\n",
              "      <td>NaN</td>\n",
              "      <td>NaN</td>\n",
              "      <td>NaN</td>\n",
              "      <td>NaN</td>\n",
              "      <td>NaN</td>\n",
              "      <td>NaN</td>\n",
              "      <td>NaN</td>\n",
              "      <td>NaN</td>\n",
              "      <td>NaN</td>\n",
              "      <td>NaN</td>\n",
              "      <td>NaN</td>\n",
              "      <td>NaN</td>\n",
              "      <td>NaN</td>\n",
              "      <td>NaN</td>\n",
              "      <td>NaN</td>\n",
              "      <td>NaN</td>\n",
              "      <td>NaN</td>\n",
              "      <td>NaN</td>\n",
              "      <td>NaN</td>\n",
              "      <td>NaN</td>\n",
              "      <td>NaN</td>\n",
              "      <td>NaN</td>\n",
              "      <td>NaN</td>\n",
              "      <td>NaN</td>\n",
              "      <td>NaN</td>\n",
              "      <td>NaN</td>\n",
              "      <td>NaN</td>\n",
              "      <td>NaN</td>\n",
              "      <td>NaN</td>\n",
              "      <td>NaN</td>\n",
              "      <td>NaN</td>\n",
              "      <td>NaN</td>\n",
              "      <td>NaN</td>\n",
              "      <td>NaN</td>\n",
              "    </tr>\n",
              "    <tr>\n",
              "      <th>317393</th>\n",
              "      <td>{'order': 1, 'url': 'https://images.asos-media...</td>\n",
              "      <td>{'order': 2, 'url': 'https://images.asos-media...</td>\n",
              "      <td>{'order': 3, 'url': 'https://images.asos-media...</td>\n",
              "      <td>{'order': 4, 'url': 'https://images.asos-media...</td>\n",
              "      <td>NaN</td>\n",
              "      <td>NaN</td>\n",
              "      <td>NaN</td>\n",
              "      <td>NaN</td>\n",
              "      <td>NaN</td>\n",
              "      <td>NaN</td>\n",
              "      <td>NaN</td>\n",
              "      <td>NaN</td>\n",
              "      <td>NaN</td>\n",
              "      <td>NaN</td>\n",
              "      <td>NaN</td>\n",
              "      <td>NaN</td>\n",
              "      <td>NaN</td>\n",
              "      <td>NaN</td>\n",
              "      <td>NaN</td>\n",
              "      <td>NaN</td>\n",
              "      <td>NaN</td>\n",
              "      <td>NaN</td>\n",
              "      <td>NaN</td>\n",
              "      <td>NaN</td>\n",
              "      <td>NaN</td>\n",
              "      <td>NaN</td>\n",
              "      <td>NaN</td>\n",
              "      <td>NaN</td>\n",
              "      <td>NaN</td>\n",
              "      <td>NaN</td>\n",
              "      <td>NaN</td>\n",
              "      <td>NaN</td>\n",
              "      <td>NaN</td>\n",
              "      <td>NaN</td>\n",
              "      <td>NaN</td>\n",
              "      <td>NaN</td>\n",
              "      <td>NaN</td>\n",
              "      <td>NaN</td>\n",
              "      <td>NaN</td>\n",
              "      <td>NaN</td>\n",
              "      <td>NaN</td>\n",
              "    </tr>\n",
              "    <tr>\n",
              "      <th>317394</th>\n",
              "      <td>{'order': 1, 'url': 'https://images.asos-media...</td>\n",
              "      <td>{'order': 2, 'url': 'https://images.asos-media...</td>\n",
              "      <td>{'order': 3, 'url': 'https://images.asos-media...</td>\n",
              "      <td>{'order': 4, 'url': 'https://images.asos-media...</td>\n",
              "      <td>NaN</td>\n",
              "      <td>NaN</td>\n",
              "      <td>NaN</td>\n",
              "      <td>NaN</td>\n",
              "      <td>NaN</td>\n",
              "      <td>NaN</td>\n",
              "      <td>NaN</td>\n",
              "      <td>NaN</td>\n",
              "      <td>NaN</td>\n",
              "      <td>NaN</td>\n",
              "      <td>NaN</td>\n",
              "      <td>NaN</td>\n",
              "      <td>NaN</td>\n",
              "      <td>NaN</td>\n",
              "      <td>NaN</td>\n",
              "      <td>NaN</td>\n",
              "      <td>NaN</td>\n",
              "      <td>NaN</td>\n",
              "      <td>NaN</td>\n",
              "      <td>NaN</td>\n",
              "      <td>NaN</td>\n",
              "      <td>NaN</td>\n",
              "      <td>NaN</td>\n",
              "      <td>NaN</td>\n",
              "      <td>NaN</td>\n",
              "      <td>NaN</td>\n",
              "      <td>NaN</td>\n",
              "      <td>NaN</td>\n",
              "      <td>NaN</td>\n",
              "      <td>NaN</td>\n",
              "      <td>NaN</td>\n",
              "      <td>NaN</td>\n",
              "      <td>NaN</td>\n",
              "      <td>NaN</td>\n",
              "      <td>NaN</td>\n",
              "      <td>NaN</td>\n",
              "      <td>NaN</td>\n",
              "    </tr>\n",
              "    <tr>\n",
              "      <th>317395</th>\n",
              "      <td>{'order': 1, 'url': 'https://images.asos-media...</td>\n",
              "      <td>{'order': 2, 'url': 'https://images.asos-media...</td>\n",
              "      <td>{'order': 3, 'url': 'https://images.asos-media...</td>\n",
              "      <td>{'order': 4, 'url': 'https://images.asos-media...</td>\n",
              "      <td>NaN</td>\n",
              "      <td>NaN</td>\n",
              "      <td>NaN</td>\n",
              "      <td>NaN</td>\n",
              "      <td>NaN</td>\n",
              "      <td>NaN</td>\n",
              "      <td>NaN</td>\n",
              "      <td>NaN</td>\n",
              "      <td>NaN</td>\n",
              "      <td>NaN</td>\n",
              "      <td>NaN</td>\n",
              "      <td>NaN</td>\n",
              "      <td>NaN</td>\n",
              "      <td>NaN</td>\n",
              "      <td>NaN</td>\n",
              "      <td>NaN</td>\n",
              "      <td>NaN</td>\n",
              "      <td>NaN</td>\n",
              "      <td>NaN</td>\n",
              "      <td>NaN</td>\n",
              "      <td>NaN</td>\n",
              "      <td>NaN</td>\n",
              "      <td>NaN</td>\n",
              "      <td>NaN</td>\n",
              "      <td>NaN</td>\n",
              "      <td>NaN</td>\n",
              "      <td>NaN</td>\n",
              "      <td>NaN</td>\n",
              "      <td>NaN</td>\n",
              "      <td>NaN</td>\n",
              "      <td>NaN</td>\n",
              "      <td>NaN</td>\n",
              "      <td>NaN</td>\n",
              "      <td>NaN</td>\n",
              "      <td>NaN</td>\n",
              "      <td>NaN</td>\n",
              "      <td>NaN</td>\n",
              "    </tr>\n",
              "    <tr>\n",
              "      <th>317396</th>\n",
              "      <td>{'order': 1, 'url': 'https://images.asos-media...</td>\n",
              "      <td>{'order': 2, 'url': 'https://images.asos-media...</td>\n",
              "      <td>{'order': 3, 'url': 'https://images.asos-media...</td>\n",
              "      <td>{'order': 4, 'url': 'https://images.asos-media...</td>\n",
              "      <td>NaN</td>\n",
              "      <td>NaN</td>\n",
              "      <td>NaN</td>\n",
              "      <td>NaN</td>\n",
              "      <td>NaN</td>\n",
              "      <td>NaN</td>\n",
              "      <td>NaN</td>\n",
              "      <td>NaN</td>\n",
              "      <td>NaN</td>\n",
              "      <td>NaN</td>\n",
              "      <td>NaN</td>\n",
              "      <td>NaN</td>\n",
              "      <td>NaN</td>\n",
              "      <td>NaN</td>\n",
              "      <td>NaN</td>\n",
              "      <td>NaN</td>\n",
              "      <td>NaN</td>\n",
              "      <td>NaN</td>\n",
              "      <td>NaN</td>\n",
              "      <td>NaN</td>\n",
              "      <td>NaN</td>\n",
              "      <td>NaN</td>\n",
              "      <td>NaN</td>\n",
              "      <td>NaN</td>\n",
              "      <td>NaN</td>\n",
              "      <td>NaN</td>\n",
              "      <td>NaN</td>\n",
              "      <td>NaN</td>\n",
              "      <td>NaN</td>\n",
              "      <td>NaN</td>\n",
              "      <td>NaN</td>\n",
              "      <td>NaN</td>\n",
              "      <td>NaN</td>\n",
              "      <td>NaN</td>\n",
              "      <td>NaN</td>\n",
              "      <td>NaN</td>\n",
              "      <td>NaN</td>\n",
              "    </tr>\n",
              "  </tbody>\n",
              "</table>\n",
              "<p>317397 rows × 41 columns</p>\n",
              "</div>"
            ],
            "text/plain": [
              "                                                        0  ...   40\n",
              "0       {'order': 1, 'url': 'https://xcdn.next.co.uk/C...  ...  NaN\n",
              "1       {'order': 1, 'url': 'https://xcdn.next.co.uk/C...  ...  NaN\n",
              "2       {'order': 1, 'url': 'https://xcdn.next.co.uk/C...  ...  NaN\n",
              "3       {'order': 1, 'url': 'https://xcdn.next.co.uk/C...  ...  NaN\n",
              "4       {'order': 1, 'url': 'https://xcdn.next.co.uk/C...  ...  NaN\n",
              "...                                                   ...  ...  ...\n",
              "317392  {'order': 1, 'url': 'https://images.asos-media...  ...  NaN\n",
              "317393  {'order': 1, 'url': 'https://images.asos-media...  ...  NaN\n",
              "317394  {'order': 1, 'url': 'https://images.asos-media...  ...  NaN\n",
              "317395  {'order': 1, 'url': 'https://images.asos-media...  ...  NaN\n",
              "317396  {'order': 1, 'url': 'https://images.asos-media...  ...  NaN\n",
              "\n",
              "[317397 rows x 41 columns]"
            ]
          },
          "metadata": {
            "tags": []
          },
          "execution_count": 22
        }
      ]
    },
    {
      "cell_type": "code",
      "metadata": {
        "id": "yXIS0NCwVjQa",
        "colab_type": "code",
        "colab": {}
      },
      "source": [
        "\n",
        "ord=[]\n",
        "for i in range(0,41):\n",
        "  order=pd.DataFrame(dict(new[i])).T\n",
        "  ord.append(order)\n",
        "\n"
      ],
      "execution_count": 0,
      "outputs": []
    },
    {
      "cell_type": "code",
      "metadata": {
        "id": "-uPU44-PkZh6",
        "colab_type": "code",
        "colab": {}
      },
      "source": [
        "stan=pd.concat(ord)"
      ],
      "execution_count": 0,
      "outputs": []
    },
    {
      "cell_type": "code",
      "metadata": {
        "id": "2oJodoQn_TA6",
        "colab_type": "code",
        "colab": {}
      },
      "source": [
        "#stan.to_csv('/content/drive/My Drive/case study/oredr.csv')"
      ],
      "execution_count": 0,
      "outputs": []
    },
    {
      "cell_type": "code",
      "metadata": {
        "id": "65i19xdlm8bk",
        "colab_type": "code",
        "outputId": "6f7187a1-fea4-46aa-84c3-abe73ad21a39",
        "colab": {
          "base_uri": "https://localhost:8080/",
          "height": 170
        }
      },
      "source": [
        "(stan['order'].groupby(stan.index).sum()).argmax()"
      ],
      "execution_count": 0,
      "outputs": [
        {
          "output_type": "stream",
          "text": [
            "/usr/local/lib/python3.6/dist-packages/ipykernel_launcher.py:1: FutureWarning: \n",
            "The current behaviour of 'Series.argmax' is deprecated, use 'idxmax'\n",
            "instead.\n",
            "The behavior of 'argmax' will be corrected to return the positional\n",
            "maximum in the future. For now, use 'series.values.argmax' or\n",
            "'np.argmax(np.array(values))' to get the position of the maximum\n",
            "row.\n",
            "  \"\"\"Entry point for launching an IPython kernel.\n"
          ],
          "name": "stderr"
        },
        {
          "output_type": "execute_result",
          "data": {
            "text/plain": [
              "151095"
            ]
          },
          "metadata": {
            "tags": []
          },
          "execution_count": 25
        }
      ]
    },
    {
      "cell_type": "code",
      "metadata": {
        "id": "tkYAcuvxxhgM",
        "colab_type": "code",
        "outputId": "774662e7-7c9d-442c-ddd7-8ca44edcb6ea",
        "colab": {
          "base_uri": "https://localhost:8080/",
          "height": 731
        }
      },
      "source": [
        "new.loc[123678]"
      ],
      "execution_count": 0,
      "outputs": [
        {
          "output_type": "execute_result",
          "data": {
            "text/plain": [
              "0     {'order': 1, 'url': 'https://cdn-images.farfet...\n",
              "1     {'order': 2, 'url': 'https://cdn-images.farfet...\n",
              "2     {'order': 3, 'url': 'https://cdn-images.farfet...\n",
              "3     {'order': 4, 'url': 'https://cdn-images.farfet...\n",
              "4     {'order': 5, 'url': 'https://cdn-images.farfet...\n",
              "5                                                   NaN\n",
              "6                                                   NaN\n",
              "7                                                   NaN\n",
              "8                                                   NaN\n",
              "9                                                   NaN\n",
              "10                                                  NaN\n",
              "11                                                  NaN\n",
              "12                                                  NaN\n",
              "13                                                  NaN\n",
              "14                                                  NaN\n",
              "15                                                  NaN\n",
              "16                                                  NaN\n",
              "17                                                  NaN\n",
              "18                                                  NaN\n",
              "19                                                  NaN\n",
              "20                                                  NaN\n",
              "21                                                  NaN\n",
              "22                                                  NaN\n",
              "23                                                  NaN\n",
              "24                                                  NaN\n",
              "25                                                  NaN\n",
              "26                                                  NaN\n",
              "27                                                  NaN\n",
              "28                                                  NaN\n",
              "29                                                  NaN\n",
              "30                                                  NaN\n",
              "31                                                  NaN\n",
              "32                                                  NaN\n",
              "33                                                  NaN\n",
              "34                                                  NaN\n",
              "35                                                  NaN\n",
              "36                                                  NaN\n",
              "37                                                  NaN\n",
              "38                                                  NaN\n",
              "39                                                  NaN\n",
              "40                                                  NaN\n",
              "Name: 123678, dtype: object"
            ]
          },
          "metadata": {
            "tags": []
          },
          "execution_count": 26
        }
      ]
    },
    {
      "cell_type": "markdown",
      "metadata": {
        "id": "Umiu97-cCUPL",
        "colab_type": "text"
      },
      "source": [
        "# STEP-7:"
      ]
    },
    {
      "cell_type": "code",
      "metadata": {
        "id": "X0bEMFROyXcQ",
        "colab_type": "code",
        "outputId": "794951cb-a630-442b-df27-59d05cdbd7fe",
        "colab": {
          "base_uri": "https://localhost:8080/",
          "height": 34
        }
      },
      "source": [
        "num=[]\n",
        "for i in range(0,len(media.standard)):\n",
        "  y=len(media.standard.iloc[i])\n",
        "  num.append(y)\n",
        "\n",
        "len(num)"
      ],
      "execution_count": 0,
      "outputs": [
        {
          "output_type": "execute_result",
          "data": {
            "text/plain": [
              "317397"
            ]
          },
          "metadata": {
            "tags": []
          },
          "execution_count": 27
        }
      ]
    },
    {
      "cell_type": "code",
      "metadata": {
        "id": "GpOdpj5qysmq",
        "colab_type": "code",
        "outputId": "c3da8f4f-15d0-454a-9f17-b7b84eb67258",
        "colab": {
          "base_uri": "https://localhost:8080/",
          "height": 68
        }
      },
      "source": [
        "df.columns"
      ],
      "execution_count": 0,
      "outputs": [
        {
          "output_type": "execute_result",
          "data": {
            "text/plain": [
              "Index(['_id', 'name', 'price', 'website_id', 'sku', 'url', 'brand', 'media',\n",
              "       'description_text'],\n",
              "      dtype='object')"
            ]
          },
          "metadata": {
            "tags": []
          },
          "execution_count": 28
        }
      ]
    },
    {
      "cell_type": "markdown",
      "metadata": {
        "id": "YrHuXS5aC2UT",
        "colab_type": "text"
      },
      "source": [
        "# STEP-8:"
      ]
    },
    {
      "cell_type": "code",
      "metadata": {
        "id": "GkX-Q3pFz9Z2",
        "colab_type": "code",
        "outputId": "fdc0af0f-fd65-46ba-c55d-acb0e761d4c8",
        "colab": {
          "base_uri": "https://localhost:8080/",
          "height": 204
        }
      },
      "source": [
        "col=['_id','name','url','description_text']\n",
        "df1=df[col]\n",
        "df1.head()"
      ],
      "execution_count": 0,
      "outputs": [
        {
          "output_type": "execute_result",
          "data": {
            "text/html": [
              "<div>\n",
              "<style scoped>\n",
              "    .dataframe tbody tr th:only-of-type {\n",
              "        vertical-align: middle;\n",
              "    }\n",
              "\n",
              "    .dataframe tbody tr th {\n",
              "        vertical-align: top;\n",
              "    }\n",
              "\n",
              "    .dataframe thead th {\n",
              "        text-align: right;\n",
              "    }\n",
              "</style>\n",
              "<table border=\"1\" class=\"dataframe\">\n",
              "  <thead>\n",
              "    <tr style=\"text-align: right;\">\n",
              "      <th></th>\n",
              "      <th>_id</th>\n",
              "      <th>name</th>\n",
              "      <th>url</th>\n",
              "      <th>description_text</th>\n",
              "    </tr>\n",
              "  </thead>\n",
              "  <tbody>\n",
              "    <tr>\n",
              "      <th>0</th>\n",
              "      <td>5d0b8aca0db7220b86cb4035</td>\n",
              "      <td>Joules Top Dog Underwear Three Pack</td>\n",
              "      <td>www.next.co.uk/style/st355408#312838</td>\n",
              "      <td>95% Cotton, 5% Elastane.</td>\n",
              "    </tr>\n",
              "    <tr>\n",
              "      <th>1</th>\n",
              "      <td>5d0b8aca0db7220b86cb4036</td>\n",
              "      <td>Figleaves Cheetah Satin Pyjama Set</td>\n",
              "      <td>https://www.next.co.uk/style/st324987#319571</td>\n",
              "      <td>100% Polyester.</td>\n",
              "    </tr>\n",
              "    <tr>\n",
              "      <th>2</th>\n",
              "      <td>5d0b8aca0db7220b86cb4037</td>\n",
              "      <td>Nike Solid 4\" Swim Short</td>\n",
              "      <td>https://www.next.co.uk/style/st400645#335026</td>\n",
              "      <td>Nike Swim Boys' Solid Lap 4 Volley Short is a ...</td>\n",
              "    </tr>\n",
              "    <tr>\n",
              "      <th>3</th>\n",
              "      <td>5d0b8aca0db7220b86cb4038</td>\n",
              "      <td>Collection Luxe Orchid</td>\n",
              "      <td>https://www.next.co.uk/style/st262195#552266</td>\n",
              "      <td>Height 85cm</td>\n",
              "    </tr>\n",
              "    <tr>\n",
              "      <th>4</th>\n",
              "      <td>5d0b8aca0db7220b86cb4039</td>\n",
              "      <td>River Island White Sleeveless Blazer</td>\n",
              "      <td>https://www.next.co.uk/style/st440132#680971</td>\n",
              "      <td>100% Polyester.</td>\n",
              "    </tr>\n",
              "  </tbody>\n",
              "</table>\n",
              "</div>"
            ],
            "text/plain": [
              "                        _id  ...                                   description_text\n",
              "0  5d0b8aca0db7220b86cb4035  ...                           95% Cotton, 5% Elastane.\n",
              "1  5d0b8aca0db7220b86cb4036  ...                                    100% Polyester.\n",
              "2  5d0b8aca0db7220b86cb4037  ...  Nike Swim Boys' Solid Lap 4 Volley Short is a ...\n",
              "3  5d0b8aca0db7220b86cb4038  ...                                        Height 85cm\n",
              "4  5d0b8aca0db7220b86cb4039  ...                                    100% Polyester.\n",
              "\n",
              "[5 rows x 4 columns]"
            ]
          },
          "metadata": {
            "tags": []
          },
          "execution_count": 29
        }
      ]
    },
    {
      "cell_type": "code",
      "metadata": {
        "id": "WNuc2s450YzT",
        "colab_type": "code",
        "colab": {}
      },
      "source": [
        "df1=pd.merge(df1,regular_price,left_index=True,right_index=True)       "
      ],
      "execution_count": 0,
      "outputs": []
    },
    {
      "cell_type": "code",
      "metadata": {
        "id": "fLLNJw2z1NuG",
        "colab_type": "code",
        "colab": {}
      },
      "source": [
        "df1=pd.merge(df1,offer_price,left_index=True,right_index=True,suffixes=('_regular','_offer'))"
      ],
      "execution_count": 0,
      "outputs": []
    },
    {
      "cell_type": "code",
      "metadata": {
        "id": "O73iwj-N2p0K",
        "colab_type": "code",
        "colab": {}
      },
      "source": [
        "df1=pd.merge(df1,brand.name,left_index=True,right_index=True)"
      ],
      "execution_count": 0,
      "outputs": []
    },
    {
      "cell_type": "code",
      "metadata": {
        "id": "0Me3I1sL3NlC",
        "colab_type": "code",
        "colab": {}
      },
      "source": [
        "df1=pd.merge(df1,media.standard,left_index=True,right_index=True)"
      ],
      "execution_count": 0,
      "outputs": []
    },
    {
      "cell_type": "code",
      "metadata": {
        "id": "j0a4ezPQ3vM6",
        "colab_type": "code",
        "colab": {}
      },
      "source": [
        "num=[]\n",
        "for i in range(0,len(df1.standard)):\n",
        "  y=len(df1.standard.iloc[i])\n",
        "  num.append(y)\n",
        "\n",
        "df1['num_of_orders']=num"
      ],
      "execution_count": 0,
      "outputs": []
    },
    {
      "cell_type": "code",
      "metadata": {
        "id": "JZ-tVVx94LFd",
        "colab_type": "code",
        "colab": {}
      },
      "source": [
        "df1.drop('standard',axis=1,inplace=True)"
      ],
      "execution_count": 0,
      "outputs": []
    },
    {
      "cell_type": "code",
      "metadata": {
        "id": "xlv17j0T4e9l",
        "colab_type": "code",
        "outputId": "deb5113e-abf3-4374-fa54-b353ac8a93dd",
        "colab": {
          "base_uri": "https://localhost:8080/",
          "height": 496
        }
      },
      "source": [
        "df1.head()"
      ],
      "execution_count": 0,
      "outputs": [
        {
          "output_type": "execute_result",
          "data": {
            "text/html": [
              "<div>\n",
              "<style scoped>\n",
              "    .dataframe tbody tr th:only-of-type {\n",
              "        vertical-align: middle;\n",
              "    }\n",
              "\n",
              "    .dataframe tbody tr th {\n",
              "        vertical-align: top;\n",
              "    }\n",
              "\n",
              "    .dataframe thead th {\n",
              "        text-align: right;\n",
              "    }\n",
              "</style>\n",
              "<table border=\"1\" class=\"dataframe\">\n",
              "  <thead>\n",
              "    <tr style=\"text-align: right;\">\n",
              "      <th></th>\n",
              "      <th>_id</th>\n",
              "      <th>name_x</th>\n",
              "      <th>url</th>\n",
              "      <th>description_text</th>\n",
              "      <th>currency_regular</th>\n",
              "      <th>value_regular</th>\n",
              "      <th>currency_offer</th>\n",
              "      <th>value_offer</th>\n",
              "      <th>name_y</th>\n",
              "      <th>num_of_orders</th>\n",
              "    </tr>\n",
              "  </thead>\n",
              "  <tbody>\n",
              "    <tr>\n",
              "      <th>0</th>\n",
              "      <td>5d0b8aca0db7220b86cb4035</td>\n",
              "      <td>Joules Top Dog Underwear Three Pack</td>\n",
              "      <td>www.next.co.uk/style/st355408#312838</td>\n",
              "      <td>95% Cotton, 5% Elastane.</td>\n",
              "      <td>GBP</td>\n",
              "      <td>35.0</td>\n",
              "      <td>GBP</td>\n",
              "      <td>35.0</td>\n",
              "      <td>joules</td>\n",
              "      <td>1</td>\n",
              "    </tr>\n",
              "    <tr>\n",
              "      <th>1</th>\n",
              "      <td>5d0b8aca0db7220b86cb4036</td>\n",
              "      <td>Figleaves Cheetah Satin Pyjama Set</td>\n",
              "      <td>https://www.next.co.uk/style/st324987#319571</td>\n",
              "      <td>100% Polyester.</td>\n",
              "      <td>GBP</td>\n",
              "      <td>25.0</td>\n",
              "      <td>GBP</td>\n",
              "      <td>25.0</td>\n",
              "      <td>figleaves</td>\n",
              "      <td>1</td>\n",
              "    </tr>\n",
              "    <tr>\n",
              "      <th>2</th>\n",
              "      <td>5d0b8aca0db7220b86cb4037</td>\n",
              "      <td>Nike Solid 4\" Swim Short</td>\n",
              "      <td>https://www.next.co.uk/style/st400645#335026</td>\n",
              "      <td>Nike Swim Boys' Solid Lap 4 Volley Short is a ...</td>\n",
              "      <td>GBP</td>\n",
              "      <td>15.0</td>\n",
              "      <td>GBP</td>\n",
              "      <td>15.0</td>\n",
              "      <td>nike</td>\n",
              "      <td>1</td>\n",
              "    </tr>\n",
              "    <tr>\n",
              "      <th>3</th>\n",
              "      <td>5d0b8aca0db7220b86cb4038</td>\n",
              "      <td>Collection Luxe Orchid</td>\n",
              "      <td>https://www.next.co.uk/style/st262195#552266</td>\n",
              "      <td>Height 85cm</td>\n",
              "      <td>GBP</td>\n",
              "      <td>150.0</td>\n",
              "      <td>GBP</td>\n",
              "      <td>150.0</td>\n",
              "      <td>next</td>\n",
              "      <td>1</td>\n",
              "    </tr>\n",
              "    <tr>\n",
              "      <th>4</th>\n",
              "      <td>5d0b8aca0db7220b86cb4039</td>\n",
              "      <td>River Island White Sleeveless Blazer</td>\n",
              "      <td>https://www.next.co.uk/style/st440132#680971</td>\n",
              "      <td>100% Polyester.</td>\n",
              "      <td>GBP</td>\n",
              "      <td>55.0</td>\n",
              "      <td>GBP</td>\n",
              "      <td>55.0</td>\n",
              "      <td>river island</td>\n",
              "      <td>1</td>\n",
              "    </tr>\n",
              "  </tbody>\n",
              "</table>\n",
              "</div>"
            ],
            "text/plain": [
              "                        _id  ... num_of_orders\n",
              "0  5d0b8aca0db7220b86cb4035  ...             1\n",
              "1  5d0b8aca0db7220b86cb4036  ...             1\n",
              "2  5d0b8aca0db7220b86cb4037  ...             1\n",
              "3  5d0b8aca0db7220b86cb4038  ...             1\n",
              "4  5d0b8aca0db7220b86cb4039  ...             1\n",
              "\n",
              "[5 rows x 10 columns]"
            ]
          },
          "metadata": {
            "tags": []
          },
          "execution_count": 36
        }
      ]
    },
    {
      "cell_type": "code",
      "metadata": {
        "id": "KQiqc9m06D5a",
        "colab_type": "code",
        "colab": {}
      },
      "source": [
        "df1.drop('currency_offer',axis=1,inplace=True)"
      ],
      "execution_count": 0,
      "outputs": []
    },
    {
      "cell_type": "code",
      "metadata": {
        "id": "Gp5GnnvP5S63",
        "colab_type": "code",
        "outputId": "63d4738f-5851-42ac-ded1-90dd2616ec02",
        "colab": {
          "base_uri": "https://localhost:8080/",
          "height": 68
        }
      },
      "source": [
        "df1.columns"
      ],
      "execution_count": 0,
      "outputs": [
        {
          "output_type": "execute_result",
          "data": {
            "text/plain": [
              "Index(['_id', 'name_x', 'url', 'description_text', 'currency_regular',\n",
              "       'value_regular', 'value_offer', 'name_y', 'num_of_orders'],\n",
              "      dtype='object')"
            ]
          },
          "metadata": {
            "tags": []
          },
          "execution_count": 38
        }
      ]
    },
    {
      "cell_type": "code",
      "metadata": {
        "id": "-vDDVlXp5pR7",
        "colab_type": "code",
        "colab": {}
      },
      "source": [
        "df1=df1.rename(columns={'name_y':'brand_name','currency_regular':'currency','value_regular':'regular_price','value_offer':'offer_price','name_x':'name'})"
      ],
      "execution_count": 0,
      "outputs": []
    },
    {
      "cell_type": "code",
      "metadata": {
        "id": "OAnc5Fj66jxZ",
        "colab_type": "code",
        "colab": {}
      },
      "source": [
        "cols=['_id', 'name','brand_name', 'num_of_orders','currency', 'regular_price','offer_price','url', 'description_text']\n",
        "df1=df1.reindex(columns=cols)"
      ],
      "execution_count": 0,
      "outputs": []
    },
    {
      "cell_type": "markdown",
      "metadata": {
        "id": "gOfaTvMzC_3v",
        "colab_type": "text"
      },
      "source": [
        "# STEP-9:"
      ]
    },
    {
      "cell_type": "code",
      "metadata": {
        "id": "r-F9bwO27qRi",
        "colab_type": "code",
        "colab": {}
      },
      "source": [
        "#df1.to_csv('/content/drive/My Drive/case study/clothing.csv')"
      ],
      "execution_count": 0,
      "outputs": []
    },
    {
      "cell_type": "code",
      "metadata": {
        "id": "YSGQMYWI8DCP",
        "colab_type": "code",
        "outputId": "896cfdc0-7786-4888-a1ed-fd5d4f3a2a5e",
        "colab": {
          "base_uri": "https://localhost:8080/",
          "height": 255
        }
      },
      "source": [
        "df1.info()"
      ],
      "execution_count": 0,
      "outputs": [
        {
          "output_type": "stream",
          "text": [
            "<class 'pandas.core.frame.DataFrame'>\n",
            "Int64Index: 311429 entries, 0 to 317396\n",
            "Data columns (total 9 columns):\n",
            "_id                 311429 non-null object\n",
            "name                311429 non-null object\n",
            "brand_name          311429 non-null object\n",
            "num_of_orders       311429 non-null int64\n",
            "currency            311429 non-null object\n",
            "regular_price       311113 non-null float64\n",
            "offer_price         311113 non-null float64\n",
            "url                 311429 non-null object\n",
            "description_text    311429 non-null object\n",
            "dtypes: float64(2), int64(1), object(6)\n",
            "memory usage: 23.8+ MB\n"
          ],
          "name": "stdout"
        }
      ]
    },
    {
      "cell_type": "markdown",
      "metadata": {
        "id": "oZap6fcE6LG5",
        "colab_type": "text"
      },
      "source": [
        "DESCRIPTION:"
      ]
    },
    {
      "cell_type": "markdown",
      "metadata": {
        "id": "9Lmc1Zvo6Uc0",
        "colab_type": "text"
      },
      "source": [
        "In this dataset, We have lot to clean each and every step of cleaning is explained below clearly:     \n",
        "STEP 1:   \n",
        "importing a csv file using error_bad_lines because there are some bad lines in data.          \n",
        "STEP 2:                 \n",
        "Dropping null value observations.            \n",
        "NOTE:                  \n",
        "Variables price,media and brand are in string format but contains dictionaries.So,A function is used to unpack it to dictionary datatype                \n",
        "STEP 3:                 \n",
        "Creating a function named unpack and executing it         \n",
        "STEP 4:                    \n",
        "Creating a newframe from price dictionary using keys as variables        \n",
        "STEP 5:\n",
        "Above created Dataframe again contains Regular price,Offer price and basket price as different dictionaries.\n",
        "So each dictionary is made into a dataframe.           \n",
        "STEP 6:                  \n",
        "Brand and media are unpacked and converted into dataframes same as STEP3 and STEP 4.           \n",
        "STEP 7:                    \n",
        "In media,there is a variable named standard in which there are list of  dictionaries of order number and urls.\n",
        "length of list had been taken as number of order values.            \n",
        "STEP 8:\n",
        "All the dataframes are combined using merge and final cleaned dataset had been created.           \n",
        "STEP 9:           \n",
        "Exporting the cleaned dataset to clothing.csv\n",
        "\n",
        "\n",
        "\n",
        "  '`Now the dataset is ready for visualization analysis`'\n"
      ]
    },
    {
      "cell_type": "code",
      "metadata": {
        "id": "9OTgfxGZ_MoZ",
        "colab_type": "code",
        "colab": {}
      },
      "source": [
        ""
      ],
      "execution_count": 0,
      "outputs": []
    }
  ]
}